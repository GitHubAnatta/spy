{
 "metadata": {
  "name": ""
 },
 "nbformat": 3,
 "nbformat_minor": 0,
 "worksheets": [
  {
   "cells": [
    {
     "cell_type": "code",
     "collapsed": false,
     "input": [
      "import nmap\n",
      "\n",
      "nm = nmap.PortScanner()\n",
      "roguelynn = nm.scan('roguelynn.com', '22-443')"
     ],
     "language": "python",
     "metadata": {
      "slideshow": {
       "slide_type": "subslide"
      }
     },
     "outputs": [],
     "prompt_number": 18
    },
    {
     "cell_type": "code",
     "collapsed": false,
     "input": [
      "roguelynn"
     ],
     "language": "python",
     "metadata": {
      "slideshow": {
       "slide_type": "subslide"
      }
     },
     "outputs": [
      {
       "metadata": {},
       "output_type": "pyout",
       "prompt_number": 25,
       "text": [
        "{'nmap': {'command_line': u'nmap -oX - -p 22-443 -sV roguelynn.com',\n",
        "  'scaninfo': {u'tcp': {'method': u'syn', 'services': u'22-443'}},\n",
        "  'scanstats': {'downhosts': u'0',\n",
        "   'elapsed': u'37.97',\n",
        "   'timestr': u'Fri Nov 22 10:08:12 2013',\n",
        "   'totalhosts': u'1',\n",
        "   'uphosts': u'1'}},\n",
        " 'scan': {u'81.28.232.189': {'addresses': {u'ipv4': u'81.28.232.189'},\n",
        "   'hostname': u'roguelynn.com',\n",
        "   'status': {'reason': u'reset', 'state': u'up'},\n",
        "   u'tcp': {22: {'conf': u'10',\n",
        "     'cpe': u'cpe:/o:linux:linux_kernel',\n",
        "     'extrainfo': u'Ubuntu Linux; protocol 2.0',\n",
        "     'name': u'ssh',\n",
        "     'product': u'OpenSSH',\n",
        "     'reason': u'syn-ack',\n",
        "     'state': u'open',\n",
        "     'version': u'5.9p1 Debian 5ubuntu1.1'},\n",
        "    80: {'conf': u'10',\n",
        "     'cpe': u'cpe:/a:apache:http_server',\n",
        "     'extrainfo': '',\n",
        "     'name': u'http',\n",
        "     'product': u'Apache httpd',\n",
        "     'reason': u'syn-ack',\n",
        "     'state': u'open',\n",
        "     'version': ''},\n",
        "    111: {'conf': u'10',\n",
        "     'cpe': '',\n",
        "     'extrainfo': u'RPC #100000',\n",
        "     'name': u'rpcbind',\n",
        "     'product': '',\n",
        "     'reason': u'syn-ack',\n",
        "     'state': u'open',\n",
        "     'version': u'2-4'},\n",
        "    443: {'conf': u'3',\n",
        "     'cpe': '',\n",
        "     'extrainfo': '',\n",
        "     'name': u'https',\n",
        "     'product': '',\n",
        "     'reason': u'syn-ack',\n",
        "     'state': u'open',\n",
        "     'version': ''}}}}}"
       ]
      }
     ],
     "prompt_number": 25
    },
    {
     "cell_type": "code",
     "collapsed": false,
     "input": [
      "roguelynn_hosts = nm.all_hosts()\n",
      "print roguelynn_hosts"
     ],
     "language": "python",
     "metadata": {
      "slideshow": {
       "slide_type": "subslide"
      }
     },
     "outputs": [
      {
       "output_type": "stream",
       "stream": "stdout",
       "text": [
        "[u'81.28.232.189']\n"
       ]
      }
     ],
     "prompt_number": 26
    },
    {
     "cell_type": "code",
     "collapsed": false,
     "input": [
      "roguelynn_hosts = '81.28.232.189'"
     ],
     "language": "python",
     "metadata": {
      "slideshow": {
       "slide_type": "skip"
      }
     },
     "outputs": [],
     "prompt_number": 1
    },
    {
     "cell_type": "code",
     "collapsed": false,
     "input": [
      "import pygeoip\n",
      "\n",
      "def map_ip(ip):\n",
      "    # locally saved dat file\n",
      "    gip = pygeoip.GeoIP('data/GeoLiteCity.dat')\n",
      "    geo_data = gip.record_by_addr(ip)\n",
      "    if geo_data:\n",
      "        lat = geo_data['latitude']\n",
      "        lon = geo_data['longitude']\n",
      "        return lon, lat"
     ],
     "language": "python",
     "metadata": {
      "slideshow": {
       "slide_type": "subslide"
      }
     },
     "outputs": [],
     "prompt_number": 3
    },
    {
     "cell_type": "code",
     "collapsed": false,
     "input": [
      "import geojson\n",
      "\n",
      "def create_geojson(coordinates):\n",
      "    geo_list = []\n",
      "    data = {}\n",
      "    data[\"type\"] = \"Feature\"\n",
      "    data[\"id\"] = 1\n",
      "    data[\"properties\"] = {\"title\": \"hop %i\" % 1}\n",
      "    data[\"geometry\"] = {\"type\": \"Point\",\n",
      "                        \"coordinates\": coordinates}\n",
      "    geo_list.append(data)\n",
      "\n",
      "    d = {\"type\": \"FeatureCollection\"}\n",
      "    for item in geo_list:\n",
      "        d.setdefault(\"features\", []).append(item)\n",
      "\n",
      "    return geojson.dumps(d)"
     ],
     "language": "python",
     "metadata": {
      "slideshow": {
       "slide_type": "subslide"
      }
     },
     "outputs": [],
     "prompt_number": 4
    },
    {
     "cell_type": "code",
     "collapsed": false,
     "input": [
      "coordinates = map_ip(roguelynn_hosts)\n",
      "geojson_file = create_geojson(coordinates)"
     ],
     "language": "python",
     "metadata": {
      "slideshow": {
       "slide_type": "subslide"
      }
     },
     "outputs": [],
     "prompt_number": 5
    },
    {
     "cell_type": "code",
     "collapsed": false,
     "input": [
      "create_geojson(coordinates)"
     ],
     "language": "python",
     "metadata": {
      "slideshow": {
       "slide_type": "subslide"
      }
     },
     "outputs": [
      {
       "metadata": {},
       "output_type": "pyout",
       "prompt_number": 6,
       "text": [
        "'{\"type\": \"FeatureCollection\", \"features\": [{\"geometry\": {\"type\": \"Point\", \"coordinates\": [9.0, 51.0]}, \"type\": \"Feature\", \"id\": 1, \"properties\": {\"title\": \"hop 1\"}}]}'"
       ]
      }
     ],
     "prompt_number": 6
    },
    {
     "cell_type": "code",
     "collapsed": false,
     "input": [
      "from IPython.display import HTML\n",
      "\n",
      "HTML('<script src=\"https://gist.github.com/econchick/2b719b09dce5232559c3.js\"></script>')"
     ],
     "language": "python",
     "metadata": {
      "slideshow": {
       "slide_type": "subslide"
      }
     },
     "outputs": [
      {
       "html": [
        "<script src=\"https://gist.github.com/econchick/2b719b09dce5232559c3.js\"></script>"
       ],
       "metadata": {},
       "output_type": "pyout",
       "prompt_number": 7,
       "text": [
        "<IPython.core.display.HTML at 0x104d87b50>"
       ]
      }
     ],
     "prompt_number": 7
    }
   ],
   "metadata": {}
  }
 ]
}