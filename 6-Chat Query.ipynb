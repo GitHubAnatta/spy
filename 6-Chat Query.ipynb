{
 "metadata": {
  "name": ""
 },
 "nbformat": 3,
 "nbformat_minor": 0,
 "worksheets": [
  {
   "cells": [
    {
     "cell_type": "code",
     "collapsed": false,
     "input": [
      "from scapy.all import *"
     ],
     "language": "python",
     "metadata": {},
     "outputs": []
    },
    {
     "cell_type": "code",
     "collapsed": false,
     "input": [
      "sample_irc = \"data/SkypeIRC.cap\"\n",
      "pkts = sniff(offline=sample_irc)"
     ],
     "language": "python",
     "metadata": {},
     "outputs": []
    },
    {
     "cell_type": "code",
     "collapsed": false,
     "input": [
      "pkts"
     ],
     "language": "python",
     "metadata": {},
     "outputs": []
    },
    {
     "cell_type": "code",
     "collapsed": false,
     "input": [
      "pkts.show()"
     ],
     "language": "python",
     "metadata": {},
     "outputs": []
    },
    {
     "cell_type": "code",
     "collapsed": false,
     "input": [
      "pkts.summary(prn=lambda x:x.sprintf(\"{IP:%IP.src% -> %IP.dst%\\n}{Raw:%Raw.load%\\n}\"))"
     ],
     "language": "python",
     "metadata": {},
     "outputs": []
    },
    {
     "cell_type": "code",
     "collapsed": false,
     "input": [
      "def filter_packet_by_string(pkt, string):\n",
      "    try:\n",
      "        raw_load = pkt.getlayer(Raw).fields.get('load')\n",
      "        if string in raw_load:\n",
      "            print pkt.sprintf(\"QUERY FOUND:\\nFrom {IP:%IP.src% -> %IP.dst%\\n}\")\n",
      "            print raw_load\n",
      "    except Exception:\n",
      "        pass"
     ],
     "language": "python",
     "metadata": {},
     "outputs": []
    },
    {
     "cell_type": "code",
     "collapsed": false,
     "input": [
      "for pkt in pkts:\n",
      "    filter_packet_by_string(pkt, 'amarok')"
     ],
     "language": "python",
     "metadata": {},
     "outputs": []
    },
    {
     "cell_type": "code",
     "collapsed": false,
     "input": [],
     "language": "python",
     "metadata": {},
     "outputs": []
    }
   ],
   "metadata": {}
  }
 ]
}